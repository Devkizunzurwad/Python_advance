{
 "cells": [
  {
   "cell_type": "markdown",
   "id": "b86fb5b2",
   "metadata": {},
   "source": [
    "Q1. Can you create a programme or function that employs both positive and negative indexing? Is\n",
    "there any repercussion if you do so?\n",
    "Yes, it is possible to create a program or function that employs both positive and negative indexing in Python. For example:"
   ]
  },
  {
   "cell_type": "code",
   "execution_count": 1,
   "id": "a8a30591",
   "metadata": {},
   "outputs": [
    {
     "name": "stdout",
     "output_type": "stream",
     "text": [
      "3\n",
      "4\n"
     ]
    }
   ],
   "source": [
    "my_list = [1, 2, 3, 4, 5]\n",
    "print(my_list[2])    # prints 3 (positive index)\n",
    "print(my_list[-2])   # prints 4 (negative index)\n"
   ]
  },
  {
   "cell_type": "markdown",
   "id": "8af66c62",
   "metadata": {},
   "source": [
    "Q2. What is the most effective way of starting with 1,000 elements in a Python list? Assume that all\n",
    "elements should be set to the same value.\n",
    "The most effective way to create a Python list with 1,000 elements set to the same value is to use the list multiplication\n",
    "operator *."
   ]
  },
  {
   "cell_type": "code",
   "execution_count": 3,
   "id": "3521f510",
   "metadata": {},
   "outputs": [],
   "source": [
    "my_list = [0] * 1000\n"
   ]
  },
  {
   "cell_type": "markdown",
   "id": "5307ff37",
   "metadata": {},
   "source": [
    "Q3. How do you slice a list to get any other part while missing the rest? (For example, suppose you\n",
    "want to make a new list with the elements first, third, fifth, seventh, and so on.)\n",
    "\n",
    "To create a new list with only every other element of an existing list, you can use slicing with a step parameter of 2. "
   ]
  },
  {
   "cell_type": "code",
   "execution_count": 4,
   "id": "165b96fc",
   "metadata": {},
   "outputs": [
    {
     "name": "stdout",
     "output_type": "stream",
     "text": [
      "[1, 3, 5, 7, 9]\n"
     ]
    }
   ],
   "source": [
    "my_list = [1, 2, 3, 4, 5, 6, 7, 8, 9, 10]\n",
    "new_list = my_list[::2]  # gets every other element\n",
    "print(new_list)  # prints [1, 3, 5, 7, 9]\n"
   ]
  },
  {
   "cell_type": "markdown",
   "id": "06149fc9",
   "metadata": {},
   "source": [
    " Q4. Explain the distinctions between indexing and slicing.\n",
    "\n",
    "   Indexing and slicing are both ways to access elements of a list in Python. Indexing retrieves a single element at a \n",
    "   specific index, while slicing retrieves a sublist consisting of a range of elements, specified by two indices.\n",
    "   Indexing can also use negative indices to access elements from the end of the list."
   ]
  },
  {
   "cell_type": "markdown",
   "id": "28695c7c",
   "metadata": {},
   "source": [
    " Q5. What happens if one of the slicing expressions indexes is out of range?\n",
    "If one of the slicing expression's indices is out of range, Python will not raise an error, but will simply return an empty\n",
    "list. For example, if my_list has only 5 elements, and we try to slice it with my_list[5:10], Python will not raise an error, but will return an empty list: []."
   ]
  },
  {
   "cell_type": "markdown",
   "id": "a0274468",
   "metadata": {},
   "source": [
    "Q6. If you pass a list to a function, and if you want the function to be able to change the values of the\n",
    "list—so that the list is different after the function returns—what action should you avoid?\n",
    "\n",
    "If you want a function to be able to change the values of a list that is passed to it as an argument, you should avoid creating a new list with the same name as the original list within the function. Doing so will result in the function modifying the new list, rather than the original list that was passed to it. Instead, you should modify the original list directly within the function.\n",
    "\n",
    "Q7. What is the concept of an unbalanced matrix?\n",
    "\n",
    "An unbalanced matrix is a matrix that does not have the same number of elements in each row. In other words, each row has a different number of elements than the other rows.\n",
    "\n",
    "Q8. Why is it necessary to use either list comprehension or a loop to create arbitrarily large matrices?\n",
    "\n",
    "It is necessary to use either list comprehension or a loop to create arbitrarily large matrices in Python because Python does not have a built-in function for creating matrices of arbitrary size. Using a loop or list comprehension allows us to create the necessary nested lists to represent the matrix, and to set the values of the individual elements."
   ]
  },
  {
   "cell_type": "code",
   "execution_count": null,
   "id": "cdad632b",
   "metadata": {},
   "outputs": [],
   "source": []
  },
  {
   "cell_type": "code",
   "execution_count": null,
   "id": "4211bf4a",
   "metadata": {},
   "outputs": [],
   "source": []
  }
 ],
 "metadata": {
  "kernelspec": {
   "display_name": "Python 3 (ipykernel)",
   "language": "python",
   "name": "python3"
  },
  "language_info": {
   "codemirror_mode": {
    "name": "ipython",
    "version": 3
   },
   "file_extension": ".py",
   "mimetype": "text/x-python",
   "name": "python",
   "nbconvert_exporter": "python",
   "pygments_lexer": "ipython3",
   "version": "3.10.9"
  }
 },
 "nbformat": 4,
 "nbformat_minor": 5
}
