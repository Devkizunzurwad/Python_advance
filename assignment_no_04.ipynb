{
 "cells": [
  {
   "cell_type": "markdown",
   "id": "d3bfa533",
   "metadata": {},
   "source": [
    "Q1. Which two operator overloading methods can you use in your classes to support iteration?\n",
    "\n",
    "The two operator overloading methods that can be used in a class to support iteration are __iter__ and __next__."
   ]
  },
  {
   "cell_type": "markdown",
   "id": "e225f101",
   "metadata": {},
   "source": [
    "Q2. In what contexts do the two operator overloading methods manage printing?\n",
    "\n",
    "The __str__ and __repr__ methods are typically used to manage printing.\n",
    "__str__ is called when the object is printed using print(),\n",
    "while __repr__ is called when the object is printed in the interpreter or when repr() is called."
   ]
  },
  {
   "cell_type": "markdown",
   "id": "3179f927",
   "metadata": {},
   "source": [
    "Q3. In a class, how do you intercept slice operations?\n",
    "\n",
    "In a class, you can intercept slice operations by implementing the __getitem__ method and passing in a slice object as the argumen"
   ]
  },
  {
   "cell_type": "markdown",
   "id": "2a35a42a",
   "metadata": {},
   "source": [
    "Q4. In a class, how do you capture in-place addition?\n",
    "\n",
    "In a class, you can capture in-place addition by implementing the __iadd__ method."
   ]
  },
  {
   "cell_type": "markdown",
   "id": "1ad564ae",
   "metadata": {},
   "source": [
    "Q5. When is it appropriate to use operator overloading?\n",
    "\n",
    "Operator overloading should be used when it makes sense to provide alternative behavior for built-in operators. This is typically when you want to provide a more intuitive or natural syntax for operations that are commonly used with your class.\n",
    "\n",
    "\n"
   ]
  }
 ],
 "metadata": {
  "kernelspec": {
   "display_name": "Python 3 (ipykernel)",
   "language": "python",
   "name": "python3"
  },
  "language_info": {
   "codemirror_mode": {
    "name": "ipython",
    "version": 3
   },
   "file_extension": ".py",
   "mimetype": "text/x-python",
   "name": "python",
   "nbconvert_exporter": "python",
   "pygments_lexer": "ipython3",
   "version": "3.10.9"
  }
 },
 "nbformat": 4,
 "nbformat_minor": 5
}
